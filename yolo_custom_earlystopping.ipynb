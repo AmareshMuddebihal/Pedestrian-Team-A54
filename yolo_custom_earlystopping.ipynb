{
  "cells": [
    {
      "cell_type": "code",
      "execution_count": 27,
      "metadata": {
        "id": "SBarTSN3YfMj"
      },
      "outputs": [],
      "source": [
        "import os\n",
        "import cv2\n",
        "import numpy as np\n",
        "import tensorflow as tf\n",
        "from tensorflow import keras\n",
        "from tensorflow.keras import layers\n",
        "import imgaug.augmenters as ia\n",
        "from sklearn.datasets import make_moons\n",
        "from keras.models import Sequential\n",
        "from keras.layers import Dense\n",
        "from keras.callbacks import EarlyStopping\n",
        "from keras.callbacks import ModelCheckpoint\n",
        "from matplotlib import pyplot as plt\n",
        "\n"
      ]
    },
    {
      "cell_type": "code",
      "execution_count": 28,
      "metadata": {
        "id": "eOKst8xgYm-6"
      },
      "outputs": [],
      "source": [
        "image_directory = \"/content/drive/MyDrive/capstone/all_img\"\n",
        "label_directory = \"/content/drive/MyDrive/capstone/all_label\"\n",
        "\n",
        "image_files = [f for f in os.listdir(image_directory) if f.endswith((\".jpg\", \".png\", \".jpeg\"))]\n",
        "\n",
        "label_files = [os.path.splitext(f)[0] + \".txt\" for f in image_files]\n",
        "\n",
        "image_paths = [os.path.join(image_directory, f) for f in image_files]\n",
        "label_paths = [os.path.join(label_directory, f) for f in label_files]\n"
      ]
    },
    {
      "cell_type": "code",
      "execution_count": 29,
      "metadata": {
        "id": "MsVIUmi2YvXk"
      },
      "outputs": [],
      "source": [
        "def parse_label(label_path):\n",
        "    with open(label_path, 'r') as label_file:\n",
        "        line = label_file.readline().strip()\n",
        "\n",
        "    parts = line.split()\n",
        "    class_id = int(parts[0])\n",
        "    x_center, y_center, width, height = map(float, parts[1:])\n",
        "\n",
        "    return class_id, x_center, y_center, width, height\n"
      ]
    },
    {
      "cell_type": "code",
      "execution_count": 30,
      "metadata": {
        "colab": {
          "base_uri": "https://localhost:8080/"
        },
        "id": "Q41xDuBHY6Mh",
        "outputId": "95c405bf-6930-48dc-bfae-d9d5d15fb1d6"
      },
      "outputs": [
        {
          "name": "stdout",
          "output_type": "stream",
          "text": [
            "Model: \"model_3\"\n",
            "_________________________________________________________________\n",
            " Layer (type)                Output Shape              Param #   \n",
            "=================================================================\n",
            " input_4 (InputLayer)        [(None, 240, 240, 3)]     0         \n",
            "                                                                 \n",
            " conv2d_9 (Conv2D)           (None, 240, 240, 32)      896       \n",
            "                                                                 \n",
            " max_pooling2d_9 (MaxPoolin  (None, 120, 120, 32)      0         \n",
            " g2D)                                                            \n",
            "                                                                 \n",
            " conv2d_10 (Conv2D)          (None, 120, 120, 64)      18496     \n",
            "                                                                 \n",
            " max_pooling2d_10 (MaxPooli  (None, 60, 60, 64)        0         \n",
            " ng2D)                                                           \n",
            "                                                                 \n",
            " conv2d_11 (Conv2D)          (None, 60, 60, 128)       73856     \n",
            "                                                                 \n",
            " max_pooling2d_11 (MaxPooli  (None, 30, 30, 128)       0         \n",
            " ng2D)                                                           \n",
            "                                                                 \n",
            " flatten_3 (Flatten)         (None, 115200)            0         \n",
            "                                                                 \n",
            " dense_3 (Dense)             (None, 5)                 576005    \n",
            "                                                                 \n",
            "=================================================================\n",
            "Total params: 669253 (2.55 MB)\n",
            "Trainable params: 669253 (2.55 MB)\n",
            "Non-trainable params: 0 (0.00 Byte)\n",
            "_________________________________________________________________\n"
          ]
        }
      ],
      "source": [
        "\n",
        "def create_yolo_model(input_shape, num_predictions=5):\n",
        "    input_layer = layers.Input(shape=input_shape)\n",
        "\n",
        "    x = layers.Conv2D(32, (3, 3), strides=(1, 1), padding='same', activation='relu')(input_layer)\n",
        "    x = layers.MaxPooling2D((2, 2))(x)\n",
        "    x = layers.Conv2D(64, (3, 3), strides=(1, 1), padding='same', activation='relu')(x)\n",
        "    x = layers.MaxPooling2D((2, 2))(x)\n",
        "\n",
        "    x = layers.Conv2D(128, (3, 3), strides=(1, 1), padding='same', activation='relu')(x)\n",
        "    x = layers.MaxPooling2D((2, 2))(x)\n",
        "\n",
        "    x = layers.Flatten()(x)\n",
        "    output_layer = layers.Dense(num_predictions)(x)\n",
        "    model = keras.models.Model(inputs=input_layer, outputs=output_layer)\n",
        "    return model\n",
        "\n",
        "input_shape = (240, 240, 3)\n",
        "yolo_model = create_yolo_model(input_shape)\n",
        "yolo_model.compile(optimizer='adam', loss='binary_crossentropy', metrics=['accuracy'])\n",
        "\n",
        "yolo_model.summary()"
      ]
    },
    {
      "cell_type": "code",
      "execution_count": 31,
      "metadata": {
        "id": "IKXpOB26ZGvG"
      },
      "outputs": [],
      "source": [
        "batch_size = 8\n",
        "num_epochs = 10\n"
      ]
    },
    {
      "cell_type": "code",
      "execution_count": 32,
      "metadata": {
        "id": "ZKKbdyrRZL4A"
      },
      "outputs": [],
      "source": [
        "def prepare_dataset(image_paths, label_paths, input_size):\n",
        "    images = []\n",
        "    labels = []\n",
        "    for image_path, label_path in zip(image_paths, label_paths):\n",
        "        image = cv2.imread(image_path)\n",
        "        image = cv2.resize(image, input_size)\n",
        "\n",
        "        images.append(image)\n",
        "        labels.append(parse_label(label_path))\n",
        "\n",
        "    return np.array(images), np.array(labels)\n"
      ]
    },
    {
      "cell_type": "code",
      "execution_count": 33,
      "metadata": {
        "id": "7KVB5vYvZPNf"
      },
      "outputs": [],
      "source": [
        "images, labels = prepare_dataset(image_paths, label_paths, input_shape[:2])"
      ]
    },
    {
      "cell_type": "code",
      "execution_count": 34,
      "metadata": {
        "colab": {
          "base_uri": "https://localhost:8080/"
        },
        "id": "M9fBamwZfSK7",
        "outputId": "32d41396-7768-43ca-9afb-fb8085207019"
      },
      "outputs": [
        {
          "name": "stdout",
          "output_type": "stream",
          "text": [
            "Number of images: 2607\n",
            "Number of labels: 2607\n"
          ]
        }
      ],
      "source": [
        "print(\"Number of images:\", len(images))\n",
        "print(\"Number of labels:\", len(labels))"
      ]
    },
    {
      "cell_type": "code",
      "execution_count": 35,
      "metadata": {
        "id": "AehunlHjpDPw"
      },
      "outputs": [],
      "source": [
        "import imgaug.augmenters as iaa\n",
        "\n",
        "augmentor = iaa.Sequential([\n",
        "    iaa.Fliplr(0.5),\n",
        "    iaa.Affine(rotate=(-10, 10)),\n",
        "    iaa.Multiply((0.7, 1.3), per_channel=0.2),]  )\n",
        "\n",
        "\n",
        "augmented_images = augmentor.augment_images(images)\n"
      ]
    },
    {
      "cell_type": "code",
      "execution_count": 36,
      "metadata": {
        "id": "rYjuNUbJW2wI"
      },
      "outputs": [],
      "source": [
        "def format_labels(labels):\n",
        "    formatted_labels = []\n",
        "    for label in labels:\n",
        "        class_id, x_center, y_center, width, height = label\n",
        "        formatted_label = [class_id, x_center, y_center, width, height]\n",
        "        formatted_labels.append(formatted_label)\n",
        "    return np.array(formatted_labels)\n",
        "\n",
        "formatted_labels = format_labels(labels)"
      ]
    },
    {
      "cell_type": "code",
      "execution_count": 37,
      "metadata": {
        "colab": {
          "base_uri": "https://localhost:8080/"
        },
        "id": "-4VYwAfAZR9i",
        "outputId": "fe3bd698-61d2-42b2-b0a7-cf5446027985"
      },
      "outputs": [
        {
          "name": "stdout",
          "output_type": "stream",
          "text": [
            "Epoch 1/10\n",
            "326/326 [==============================] - 6s 14ms/step - loss: 9.5670 - accuracy: 0.3076\n",
            "Epoch 2/10\n",
            "326/326 [==============================] - 4s 13ms/step - loss: 9.6122 - accuracy: 0.4745\n",
            "Epoch 3/10\n",
            "326/326 [==============================] - 5s 15ms/step - loss: 9.6122 - accuracy: 0.4745\n",
            "Epoch 4/10\n",
            "326/326 [==============================] - 4s 14ms/step - loss: 9.6122 - accuracy: 0.4745\n",
            "Epoch 5/10\n",
            "326/326 [==============================] - 4s 14ms/step - loss: 9.6122 - accuracy: 0.4745\n",
            "Epoch 6/10\n",
            "326/326 [==============================] - 5s 15ms/step - loss: 9.6122 - accuracy: 0.4745\n",
            "Epoch 7/10\n",
            "326/326 [==============================] - 4s 14ms/step - loss: 9.6122 - accuracy: 0.4745\n",
            "Epoch 8/10\n",
            "326/326 [==============================] - 5s 14ms/step - loss: 9.6122 - accuracy: 0.4745\n",
            "Epoch 9/10\n",
            "326/326 [==============================] - 5s 15ms/step - loss: 9.6122 - accuracy: 0.4745\n",
            "Epoch 10/10\n",
            "326/326 [==============================] - 5s 14ms/step - loss: 9.6122 - accuracy: 0.4745\n"
          ]
        }
      ],
      "source": [
        "# Early Stopping\n",
        "es = EarlyStopping(\n",
        "    monitor='val_loss',\n",
        "    patience=200,\n",
        "    verbose=1,\n",
        "    mode=min\n",
        ")\n",
        "\n",
        "#Checkpoint\n",
        "mc = ModelCheckpoint(\n",
        "    'best_m.h5',\n",
        "    monitor='val_accuracy',\n",
        "    mode='max',\n",
        "    verbose=1,\n",
        "    save_best_only=True\n",
        ")\n",
        "\n",
        "\n",
        "history = yolo_model.fit(\n",
        "    augmented_images,formatted_labels,\n",
        "    batch_size=batch_size,\n",
        "    epochs=num_epochs,\n",
        ")\n",
        "\n",
        "history = model.fit(\n",
        "    trainX,trainy,\n",
        "    validation_data=(testX,testy),\n",
        "    epochs=4000,\n",
        "    callbacks=[es,mc],\n",
        "    verbose=2\n",
        ")\n"
      ]
    },
    {
      "cell_type": "code",
      "execution_count": null,
      "metadata": {},
      "outputs": [],
      "source": [
        "plt.plot(history.history['loss'], label='train')\n",
        "plt.plot(history.history['val_loss'], label='test')\n",
        "plt.legend()\n",
        "\n",
        "plt.savefig('es_loss.png')\n",
        "plt.show()"
      ]
    },
    {
      "cell_type": "code",
      "execution_count": null,
      "metadata": {},
      "outputs": [],
      "source": [
        "plt.plot(history.history['accuracy'], label='train')\n",
        "plt.plot(history.history['val_accuracy'], label='test')\n",
        "plt.legend()\n",
        "plt.savefig('acc_es.png')\n",
        "plt.show()"
      ]
    }
  ],
  "metadata": {
    "accelerator": "GPU",
    "colab": {
      "gpuType": "T4",
      "provenance": []
    },
    "kernelspec": {
      "display_name": "Python 3",
      "name": "python3"
    },
    "language_info": {
      "name": "python"
    }
  },
  "nbformat": 4,
  "nbformat_minor": 0
}
